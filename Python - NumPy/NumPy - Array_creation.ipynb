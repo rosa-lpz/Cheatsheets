{
  "nbformat": 4,
  "nbformat_minor": 0,
  "metadata": {
    "colab": {
      "provenance": []
    },
    "kernelspec": {
      "name": "python3",
      "display_name": "Python 3"
    },
    "language_info": {
      "name": "python"
    }
  },
  "cells": [
    {
      "cell_type": "code",
      "execution_count": 2,
      "metadata": {
        "id": "ubU0V1AcaiFI"
      },
      "outputs": [],
      "source": [
        "import numpy as np"
      ]
    },
    {
      "cell_type": "markdown",
      "source": [
        "# **1-D Array**"
      ],
      "metadata": {
        "id": "53eiTAAqmAcW"
      }
    },
    {
      "cell_type": "code",
      "source": [
        "# Example 1\n",
        "arr1d1 = np.array([1, 2, 3, 4, 5])\n",
        "arr1d1"
      ],
      "metadata": {
        "id": "LffKHmP3amn5",
        "outputId": "0df1eefb-8d28-4743-bfb7-3ac6ba49b9b3",
        "colab": {
          "base_uri": "https://localhost:8080/"
        }
      },
      "execution_count": 3,
      "outputs": [
        {
          "output_type": "execute_result",
          "data": {
            "text/plain": [
              "array([1, 2, 3, 4, 5])"
            ]
          },
          "metadata": {},
          "execution_count": 3
        }
      ]
    },
    {
      "cell_type": "code",
      "source": [
        "# Example 2 - From a list\n",
        "python_list = [3,2,5,8,4,9,7,6,1]\n",
        "arr1d2 = np.array(python_list)\n",
        "arr1d2\n"
      ],
      "metadata": {
        "colab": {
          "base_uri": "https://localhost:8080/"
        },
        "id": "TAP7WTNGmFMT",
        "outputId": "63636713-313d-43a0-f100-eaef7936be12"
      },
      "execution_count": 4,
      "outputs": [
        {
          "output_type": "execute_result",
          "data": {
            "text/plain": [
              "array([3, 2, 5, 8, 4, 9, 7, 6, 1])"
            ]
          },
          "metadata": {},
          "execution_count": 4
        }
      ]
    },
    {
      "cell_type": "code",
      "source": [
        "type(arr1d2)"
      ],
      "metadata": {
        "colab": {
          "base_uri": "https://localhost:8080/"
        },
        "id": "yAW8luJSmlav",
        "outputId": "6632ddfb-66d0-48c5-84c9-057c01a6475b"
      },
      "execution_count": 5,
      "outputs": [
        {
          "output_type": "execute_result",
          "data": {
            "text/plain": [
              "numpy.ndarray"
            ]
          },
          "metadata": {},
          "execution_count": 5
        }
      ]
    },
    {
      "cell_type": "markdown",
      "source": [
        "## Arrays of Zeros"
      ],
      "metadata": {
        "id": "YZUohhetbOuh"
      }
    },
    {
      "cell_type": "code",
      "source": [
        "arr_zeros = np.zeros(10)\n",
        "arr_zeros"
      ],
      "metadata": {
        "colab": {
          "base_uri": "https://localhost:8080/"
        },
        "id": "GRKuBkcpbUE-",
        "outputId": "54ffa299-6ab2-4bfe-805a-530c18c9338a"
      },
      "execution_count": 11,
      "outputs": [
        {
          "output_type": "execute_result",
          "data": {
            "text/plain": [
              "array([0., 0., 0., 0., 0., 0., 0., 0., 0., 0.])"
            ]
          },
          "metadata": {},
          "execution_count": 11
        }
      ]
    },
    {
      "cell_type": "markdown",
      "source": [
        "## Arrays of Ones"
      ],
      "metadata": {
        "id": "lUnfXKqAbdBn"
      }
    },
    {
      "cell_type": "code",
      "source": [
        "arr_ones = np.ones(10)\n",
        "arr_ones"
      ],
      "metadata": {
        "colab": {
          "base_uri": "https://localhost:8080/"
        },
        "id": "usgrdch6bcRH",
        "outputId": "d86756a4-ddc4-4d87-8e7b-397e3be6fa7b"
      },
      "execution_count": 12,
      "outputs": [
        {
          "output_type": "execute_result",
          "data": {
            "text/plain": [
              "array([1., 1., 1., 1., 1., 1., 1., 1., 1., 1.])"
            ]
          },
          "metadata": {},
          "execution_count": 12
        }
      ]
    },
    {
      "cell_type": "markdown",
      "source": [
        "## Random numbers"
      ],
      "metadata": {
        "id": "LV43_HAPb0IE"
      }
    },
    {
      "cell_type": "code",
      "source": [
        "# Random numbers between zero and one\n",
        "arr_random = np.random.random(10)\n",
        "arr_random"
      ],
      "metadata": {
        "colab": {
          "base_uri": "https://localhost:8080/"
        },
        "id": "hn1xeP1Zb3gS",
        "outputId": "9307e086-3075-484a-9b46-13efdfea8227"
      },
      "execution_count": 14,
      "outputs": [
        {
          "output_type": "execute_result",
          "data": {
            "text/plain": [
              "array([0.53544433, 0.12022352, 0.41248733, 0.55743943, 0.42757129,\n",
              "       0.65476639, 0.51052861, 0.42894404, 0.29394554, 0.18140074])"
            ]
          },
          "metadata": {},
          "execution_count": 14
        }
      ]
    },
    {
      "cell_type": "markdown",
      "source": [
        "# Random numbers - Normal distribution"
      ],
      "metadata": {
        "id": "El9YkFDCjq3p"
      }
    },
    {
      "cell_type": "code",
      "source": [
        "# Numbers that are distributed according to a Gaussian distribution with a mean of zero and a standard deviation of one\n",
        "arr_randn = np.random.randn(10)\n",
        "arr_randn"
      ],
      "metadata": {
        "colab": {
          "base_uri": "https://localhost:8080/"
        },
        "id": "SeSPY311iyzU",
        "outputId": "67c92582-7a2f-4180-dfdb-8c5cb8422580"
      },
      "execution_count": 15,
      "outputs": [
        {
          "output_type": "execute_result",
          "data": {
            "text/plain": [
              "array([-3.06276391, -0.1496384 ,  1.01552167,  1.78931753, -0.45265291,\n",
              "       -1.39060766, -0.79791656, -0.96053735, -0.20239184, -2.92464304])"
            ]
          },
          "metadata": {},
          "execution_count": 15
        }
      ]
    },
    {
      "cell_type": "markdown",
      "source": [
        "# Numbers with equal space"
      ],
      "metadata": {
        "id": "LTmKfH6PkE48"
      }
    },
    {
      "cell_type": "code",
      "source": [
        "# Numbers that range from 0 to 10. Elements are equally spaced apart from 0 to 100\n",
        "arr_linspace= np.linspace(0,10,100)\n",
        "arr_linspace"
      ],
      "metadata": {
        "colab": {
          "base_uri": "https://localhost:8080/"
        },
        "id": "i90fo8uZkDy0",
        "outputId": "bebb8bd2-81e4-494c-9c07-1fdf282f8cb6"
      },
      "execution_count": 16,
      "outputs": [
        {
          "output_type": "execute_result",
          "data": {
            "text/plain": [
              "array([ 0.        ,  0.1010101 ,  0.2020202 ,  0.3030303 ,  0.4040404 ,\n",
              "        0.50505051,  0.60606061,  0.70707071,  0.80808081,  0.90909091,\n",
              "        1.01010101,  1.11111111,  1.21212121,  1.31313131,  1.41414141,\n",
              "        1.51515152,  1.61616162,  1.71717172,  1.81818182,  1.91919192,\n",
              "        2.02020202,  2.12121212,  2.22222222,  2.32323232,  2.42424242,\n",
              "        2.52525253,  2.62626263,  2.72727273,  2.82828283,  2.92929293,\n",
              "        3.03030303,  3.13131313,  3.23232323,  3.33333333,  3.43434343,\n",
              "        3.53535354,  3.63636364,  3.73737374,  3.83838384,  3.93939394,\n",
              "        4.04040404,  4.14141414,  4.24242424,  4.34343434,  4.44444444,\n",
              "        4.54545455,  4.64646465,  4.74747475,  4.84848485,  4.94949495,\n",
              "        5.05050505,  5.15151515,  5.25252525,  5.35353535,  5.45454545,\n",
              "        5.55555556,  5.65656566,  5.75757576,  5.85858586,  5.95959596,\n",
              "        6.06060606,  6.16161616,  6.26262626,  6.36363636,  6.46464646,\n",
              "        6.56565657,  6.66666667,  6.76767677,  6.86868687,  6.96969697,\n",
              "        7.07070707,  7.17171717,  7.27272727,  7.37373737,  7.47474747,\n",
              "        7.57575758,  7.67676768,  7.77777778,  7.87878788,  7.97979798,\n",
              "        8.08080808,  8.18181818,  8.28282828,  8.38383838,  8.48484848,\n",
              "        8.58585859,  8.68686869,  8.78787879,  8.88888889,  8.98989899,\n",
              "        9.09090909,  9.19191919,  9.29292929,  9.39393939,  9.49494949,\n",
              "        9.5959596 ,  9.6969697 ,  9.7979798 ,  9.8989899 , 10.        ])"
            ]
          },
          "metadata": {},
          "execution_count": 16
        }
      ]
    },
    {
      "cell_type": "markdown",
      "source": [
        "# Create a range of numbers\n",
        "\n",
        "'array = np. arange(start, final, spacing)'"
      ],
      "metadata": {
        "id": "JxWYDEwymMcE"
      }
    },
    {
      "cell_type": "code",
      "source": [
        "\n",
        "arr_arange=np.arange(0,10,0.02)\n",
        "arr_arange"
      ],
      "metadata": {
        "colab": {
          "base_uri": "https://localhost:8080/"
        },
        "id": "vFM4AaXumSCg",
        "outputId": "f92142f1-4b40-4b7d-f761-4c8e47de89c2"
      },
      "execution_count": 17,
      "outputs": [
        {
          "output_type": "execute_result",
          "data": {
            "text/plain": [
              "array([0.  , 0.02, 0.04, 0.06, 0.08, 0.1 , 0.12, 0.14, 0.16, 0.18, 0.2 ,\n",
              "       0.22, 0.24, 0.26, 0.28, 0.3 , 0.32, 0.34, 0.36, 0.38, 0.4 , 0.42,\n",
              "       0.44, 0.46, 0.48, 0.5 , 0.52, 0.54, 0.56, 0.58, 0.6 , 0.62, 0.64,\n",
              "       0.66, 0.68, 0.7 , 0.72, 0.74, 0.76, 0.78, 0.8 , 0.82, 0.84, 0.86,\n",
              "       0.88, 0.9 , 0.92, 0.94, 0.96, 0.98, 1.  , 1.02, 1.04, 1.06, 1.08,\n",
              "       1.1 , 1.12, 1.14, 1.16, 1.18, 1.2 , 1.22, 1.24, 1.26, 1.28, 1.3 ,\n",
              "       1.32, 1.34, 1.36, 1.38, 1.4 , 1.42, 1.44, 1.46, 1.48, 1.5 , 1.52,\n",
              "       1.54, 1.56, 1.58, 1.6 , 1.62, 1.64, 1.66, 1.68, 1.7 , 1.72, 1.74,\n",
              "       1.76, 1.78, 1.8 , 1.82, 1.84, 1.86, 1.88, 1.9 , 1.92, 1.94, 1.96,\n",
              "       1.98, 2.  , 2.02, 2.04, 2.06, 2.08, 2.1 , 2.12, 2.14, 2.16, 2.18,\n",
              "       2.2 , 2.22, 2.24, 2.26, 2.28, 2.3 , 2.32, 2.34, 2.36, 2.38, 2.4 ,\n",
              "       2.42, 2.44, 2.46, 2.48, 2.5 , 2.52, 2.54, 2.56, 2.58, 2.6 , 2.62,\n",
              "       2.64, 2.66, 2.68, 2.7 , 2.72, 2.74, 2.76, 2.78, 2.8 , 2.82, 2.84,\n",
              "       2.86, 2.88, 2.9 , 2.92, 2.94, 2.96, 2.98, 3.  , 3.02, 3.04, 3.06,\n",
              "       3.08, 3.1 , 3.12, 3.14, 3.16, 3.18, 3.2 , 3.22, 3.24, 3.26, 3.28,\n",
              "       3.3 , 3.32, 3.34, 3.36, 3.38, 3.4 , 3.42, 3.44, 3.46, 3.48, 3.5 ,\n",
              "       3.52, 3.54, 3.56, 3.58, 3.6 , 3.62, 3.64, 3.66, 3.68, 3.7 , 3.72,\n",
              "       3.74, 3.76, 3.78, 3.8 , 3.82, 3.84, 3.86, 3.88, 3.9 , 3.92, 3.94,\n",
              "       3.96, 3.98, 4.  , 4.02, 4.04, 4.06, 4.08, 4.1 , 4.12, 4.14, 4.16,\n",
              "       4.18, 4.2 , 4.22, 4.24, 4.26, 4.28, 4.3 , 4.32, 4.34, 4.36, 4.38,\n",
              "       4.4 , 4.42, 4.44, 4.46, 4.48, 4.5 , 4.52, 4.54, 4.56, 4.58, 4.6 ,\n",
              "       4.62, 4.64, 4.66, 4.68, 4.7 , 4.72, 4.74, 4.76, 4.78, 4.8 , 4.82,\n",
              "       4.84, 4.86, 4.88, 4.9 , 4.92, 4.94, 4.96, 4.98, 5.  , 5.02, 5.04,\n",
              "       5.06, 5.08, 5.1 , 5.12, 5.14, 5.16, 5.18, 5.2 , 5.22, 5.24, 5.26,\n",
              "       5.28, 5.3 , 5.32, 5.34, 5.36, 5.38, 5.4 , 5.42, 5.44, 5.46, 5.48,\n",
              "       5.5 , 5.52, 5.54, 5.56, 5.58, 5.6 , 5.62, 5.64, 5.66, 5.68, 5.7 ,\n",
              "       5.72, 5.74, 5.76, 5.78, 5.8 , 5.82, 5.84, 5.86, 5.88, 5.9 , 5.92,\n",
              "       5.94, 5.96, 5.98, 6.  , 6.02, 6.04, 6.06, 6.08, 6.1 , 6.12, 6.14,\n",
              "       6.16, 6.18, 6.2 , 6.22, 6.24, 6.26, 6.28, 6.3 , 6.32, 6.34, 6.36,\n",
              "       6.38, 6.4 , 6.42, 6.44, 6.46, 6.48, 6.5 , 6.52, 6.54, 6.56, 6.58,\n",
              "       6.6 , 6.62, 6.64, 6.66, 6.68, 6.7 , 6.72, 6.74, 6.76, 6.78, 6.8 ,\n",
              "       6.82, 6.84, 6.86, 6.88, 6.9 , 6.92, 6.94, 6.96, 6.98, 7.  , 7.02,\n",
              "       7.04, 7.06, 7.08, 7.1 , 7.12, 7.14, 7.16, 7.18, 7.2 , 7.22, 7.24,\n",
              "       7.26, 7.28, 7.3 , 7.32, 7.34, 7.36, 7.38, 7.4 , 7.42, 7.44, 7.46,\n",
              "       7.48, 7.5 , 7.52, 7.54, 7.56, 7.58, 7.6 , 7.62, 7.64, 7.66, 7.68,\n",
              "       7.7 , 7.72, 7.74, 7.76, 7.78, 7.8 , 7.82, 7.84, 7.86, 7.88, 7.9 ,\n",
              "       7.92, 7.94, 7.96, 7.98, 8.  , 8.02, 8.04, 8.06, 8.08, 8.1 , 8.12,\n",
              "       8.14, 8.16, 8.18, 8.2 , 8.22, 8.24, 8.26, 8.28, 8.3 , 8.32, 8.34,\n",
              "       8.36, 8.38, 8.4 , 8.42, 8.44, 8.46, 8.48, 8.5 , 8.52, 8.54, 8.56,\n",
              "       8.58, 8.6 , 8.62, 8.64, 8.66, 8.68, 8.7 , 8.72, 8.74, 8.76, 8.78,\n",
              "       8.8 , 8.82, 8.84, 8.86, 8.88, 8.9 , 8.92, 8.94, 8.96, 8.98, 9.  ,\n",
              "       9.02, 9.04, 9.06, 9.08, 9.1 , 9.12, 9.14, 9.16, 9.18, 9.2 , 9.22,\n",
              "       9.24, 9.26, 9.28, 9.3 , 9.32, 9.34, 9.36, 9.38, 9.4 , 9.42, 9.44,\n",
              "       9.46, 9.48, 9.5 , 9.52, 9.54, 9.56, 9.58, 9.6 , 9.62, 9.64, 9.66,\n",
              "       9.68, 9.7 , 9.72, 9.74, 9.76, 9.78, 9.8 , 9.82, 9.84, 9.86, 9.88,\n",
              "       9.9 , 9.92, 9.94, 9.96, 9.98])"
            ]
          },
          "metadata": {},
          "execution_count": 17
        }
      ]
    },
    {
      "cell_type": "markdown",
      "source": [
        "# 2-D Array"
      ],
      "metadata": {
        "id": "wD5cevbPmg-P"
      }
    },
    {
      "cell_type": "code",
      "source": [
        "# Example 1-  2-D Array\n",
        "arr2d3 = np.array([[[1, 2, 3], [4, 5, 6]], [[1, 2, 3], [4, 5, 6]]])\n",
        "\n",
        "arr2d3"
      ],
      "metadata": {
        "id": "EvtdIXvlams0",
        "outputId": "83a95530-0ff8-42ed-cfe4-83df97c291c2",
        "colab": {
          "base_uri": "https://localhost:8080/"
        }
      },
      "execution_count": 6,
      "outputs": [
        {
          "output_type": "execute_result",
          "data": {
            "text/plain": [
              "array([[[1, 2, 3],\n",
              "        [4, 5, 6]],\n",
              "\n",
              "       [[1, 2, 3],\n",
              "        [4, 5, 6]]])"
            ]
          },
          "metadata": {},
          "execution_count": 6
        }
      ]
    },
    {
      "cell_type": "code",
      "source": [
        "# Example 2- 2-D Array\n",
        "python_lists_of_lists = [[3, 2, 5],\n",
        "                        [9, 7, 1],\n",
        "                        [4, 3, 6]]\n",
        "\n",
        "arr2d4=np.array(python_lists_of_lists)\n",
        "arr2d4"
      ],
      "metadata": {
        "id": "n0yNzP6Wam2t",
        "colab": {
          "base_uri": "https://localhost:8080/"
        },
        "outputId": "72826880-3c01-4c37-d5d5-466043723cd8"
      },
      "execution_count": 7,
      "outputs": [
        {
          "output_type": "execute_result",
          "data": {
            "text/plain": [
              "array([[3, 2, 5],\n",
              "       [9, 7, 1],\n",
              "       [4, 3, 6]])"
            ]
          },
          "metadata": {},
          "execution_count": 7
        }
      ]
    },
    {
      "cell_type": "code",
      "source": [
        "type(arr2d4)"
      ],
      "metadata": {
        "colab": {
          "base_uri": "https://localhost:8080/"
        },
        "id": "Mcbj6A3aoNxk",
        "outputId": "a968a614-5c5f-48f4-d102-908befb305d6"
      },
      "execution_count": 8,
      "outputs": [
        {
          "output_type": "execute_result",
          "data": {
            "text/plain": [
              "numpy.ndarray"
            ]
          },
          "metadata": {},
          "execution_count": 8
        }
      ]
    },
    {
      "cell_type": "code",
      "source": [
        "# Example 3\n",
        "sudoku_list=[[0, 0, 4, 3, 0, 0, 2, 0, 9],\n",
        " [0, 0, 5, 0, 0, 9, 0, 0, 1],\n",
        " [0, 7, 0, 0, 6, 0, 0, 4, 3],\n",
        " [0, 0, 6, 0, 0, 2, 0, 8, 7],\n",
        " [1, 9, 0, 0, 0, 7, 4, 0, 0],\n",
        " [0, 5, 0, 0, 8, 3, 0, 0, 0],\n",
        " [6, 0, 0, 0, 0, 0, 1, 0, 5],\n",
        " [0, 0, 3, 5, 0, 8, 6, 9, 0],\n",
        " [0, 4, 2, 9, 1, 0, 3, 0, 0]]\n"
      ],
      "metadata": {
        "id": "vBm6Jy1QqNxU"
      },
      "execution_count": 9,
      "outputs": []
    },
    {
      "cell_type": "code",
      "source": [
        "# Convert sudoku_list into an array\n",
        "sudoku_array = np.array(sudoku_list)\n",
        "\n",
        "# Print the type of sudoku_array\n",
        "print(type(sudoku_array))"
      ],
      "metadata": {
        "colab": {
          "base_uri": "https://localhost:8080/"
        },
        "id": "X0T21KpyqciI",
        "outputId": "a6f4a981-b78c-49d1-adaf-090772ac92e0"
      },
      "execution_count": 10,
      "outputs": [
        {
          "output_type": "stream",
          "name": "stdout",
          "text": [
            "<class 'numpy.ndarray'>\n"
          ]
        }
      ]
    },
    {
      "cell_type": "markdown",
      "source": [
        "# **REFERENCES**\n",
        "\n",
        "* NumPy Tutorial (2022): For Physicists, Engineers, and Mathematicians: https://youtu.be/DcfYgePyedM"
      ],
      "metadata": {
        "id": "xbZyYuhQi5kq"
      }
    }
  ]
}